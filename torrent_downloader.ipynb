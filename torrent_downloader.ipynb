{
  "cells": [
    {
      "cell_type": "markdown",
      "metadata": {
        "id": "aQuWDmfm9YOi"
      },
      "source": [
        "# Torrents To Google Drive Downloader"
      ]
    },
    {
      "cell_type": "markdown",
      "metadata": {
        "id": "Uf90U73y9YOj"
      },
      "source": [
        "### Mount Google Drive\n",
        "To stream files we need to mount Google Drive."
      ]
    },
    {
      "cell_type": "code",
      "execution_count": null,
      "metadata": {
        "colab": {
          "base_uri": "https://localhost:8080/"
        },
        "id": "oWM9l2fvtuvO",
        "outputId": "d531acfa-56a6-478f-8fa2-8c32d7d59cfb"
      },
      "outputs": [
        {
          "output_type": "stream",
          "name": "stdout",
          "text": [
            "Mounted at /content/drive\n"
          ]
        }
      ],
      "source": [
        "from google.colab import drive\n",
        "drive.mount('/content/drive')"
      ]
    },
    {
      "cell_type": "markdown",
      "metadata": {
        "id": "FexiyATtNwTG"
      },
      "source": [
        "###Dependency\n",
        "https://www.libtorrent.org/"
      ]
    },
    {
      "cell_type": "code",
      "execution_count": null,
      "metadata": {
        "colab": {
          "base_uri": "https://localhost:8080/"
        },
        "id": "m6hF0emftx4h",
        "outputId": "faf86934-43ba-4c75-8cf1-82a848c6e555"
      },
      "outputs": [
        {
          "output_type": "stream",
          "name": "stdout",
          "text": [
            "Requirement already satisfied: pip in /usr/local/lib/python3.7/dist-packages (21.1.3)\n",
            "Collecting pip\n",
            "  Downloading pip-21.3.1-py3-none-any.whl (1.7 MB)\n",
            "\u001b[K     |████████████████████████████████| 1.7 MB 4.2 MB/s \n",
            "\u001b[?25hRequirement already satisfied: setuptools in /usr/local/lib/python3.7/dist-packages (57.4.0)\n",
            "Collecting setuptools\n",
            "  Downloading setuptools-60.1.0-py3-none-any.whl (952 kB)\n",
            "\u001b[K     |████████████████████████████████| 952 kB 38.3 MB/s \n",
            "\u001b[?25hRequirement already satisfied: wheel in /usr/local/lib/python3.7/dist-packages (0.37.0)\n",
            "Collecting wheel\n",
            "  Downloading wheel-0.37.1-py2.py3-none-any.whl (35 kB)\n",
            "Installing collected packages: wheel, setuptools, pip\n",
            "  Attempting uninstall: wheel\n",
            "    Found existing installation: wheel 0.37.0\n",
            "    Uninstalling wheel-0.37.0:\n",
            "      Successfully uninstalled wheel-0.37.0\n",
            "  Attempting uninstall: setuptools\n",
            "    Found existing installation: setuptools 57.4.0\n",
            "    Uninstalling setuptools-57.4.0:\n",
            "      Successfully uninstalled setuptools-57.4.0\n",
            "  Attempting uninstall: pip\n",
            "    Found existing installation: pip 21.1.3\n",
            "    Uninstalling pip-21.1.3:\n",
            "      Successfully uninstalled pip-21.1.3\n",
            "\u001b[31mERROR: pip's dependency resolver does not currently take into account all the packages that are installed. This behaviour is the source of the following dependency conflicts.\n",
            "datascience 0.10.6 requires folium==0.2.1, but you have folium 0.8.3 which is incompatible.\u001b[0m\n",
            "Successfully installed pip-21.3.1 setuptools-60.1.0 wheel-0.37.1\n",
            "Collecting lbry-libtorrent\n",
            "  Downloading lbry_libtorrent-1.2.4-py3-none-any.whl (2.4 MB)\n",
            "     |████████████████████████████████| 2.4 MB 4.2 MB/s            \n",
            "\u001b[?25hInstalling collected packages: lbry-libtorrent\n",
            "Successfully installed lbry-libtorrent-1.2.4\n",
            "\u001b[33mWARNING: Running pip as the 'root' user can result in broken permissions and conflicting behaviour with the system package manager. It is recommended to use a virtual environment instead: https://pip.pypa.io/warnings/venv\u001b[0m\n"
          ]
        }
      ],
      "source": [
        "!python -m pip install --upgrade pip setuptools wheel\n",
        "!python -m pip install lbry-libtorrent"
      ]
    },
    {
      "cell_type": "markdown",
      "metadata": {
        "id": "j-ILSl_YOGRS"
      },
      "source": [
        "### Paste the Magnet Link here\n",
        "Variable **link** stores the link string."
      ]
    },
    {
      "cell_type": "code",
      "execution_count": null,
      "metadata": {
        "colab": {
          "base_uri": "https://localhost:8080/"
        },
        "id": "xoyBbqS9LZr3",
        "outputId": "ca7493f6-0558-43cd-f32e-dac2fb9bca9b"
      },
      "outputs": [
        {
          "name": "stdout",
          "output_type": "stream",
          "text": [
            "PASTE TORRENT/MAGNET LINK HERE \n",
            "magnet:?xt=urn:btih:6049EA2C4DFB68CEF13320A0756DAE2AE7074332&dn=Joymii%2021%2009%2003%20Charlie%20Red%20A%20Gentle%20Touch%20%20480p%20mp4&tr=udp%3A%2F%2Ftracker.coppersurfer.tk%3A6969%2Fannounce&tr=udp%3A%2F%2F9.rarbg.to%3A2920%2Fannounce&tr=udp%3A%2F%2Ftracker.opentrackr.org%3A1337&tr=udp%3A%2F%2Ftracker.internetwarriors.net%3A1337%2Fannounce&tr=udp%3A%2F%2Ftracker.leechers-paradise.org%3A6969%2Fannounce&tr=udp%3A%2F%2Ftracker.coppersurfer.tk%3A6969%2Fannounce&tr=udp%3A%2F%2Ftracker.pirateparty.gr%3A6969%2Fannounce&tr=udp%3A%2F%2Ftracker.cyberia.is%3A6969%2Fannounce\n"
          ]
        }
      ],
      "source": [
        "link = input(\"PASTE TORRENT/MAGNET LINK HERE \\n\") # PASTE TORRENT/MAGNET LINK HERE"
      ]
    },
    {
      "cell_type": "markdown",
      "metadata": {
        "id": "tqKcWHZcYRIA"
      },
      "source": [
        "### Code to download torrent"
      ]
    },
    {
      "cell_type": "code",
      "execution_count": null,
      "metadata": {
        "colab": {
          "base_uri": "https://localhost:8080/",
          "height": 1000
        },
        "id": "b09BxnANO2ep",
        "outputId": "9ab5f7e7-3811-4591-b2c8-e4a771d46c73"
      },
      "outputs": [
        {
          "output_type": "stream",
          "name": "stdout",
          "text": [
            "magnet:?xt=urn:btih:6049EA2C4DFB68CEF13320A0756DAE2AE7074332&dn=Joymii%2021%2009%2003%20Charlie%20Red%20A%20Gentle%20Touch%20%20480p%20mp4&tr=udp%3A%2F%2Ftracker.coppersurfer.tk%3A6969%2Fannounce&tr=udp%3A%2F%2F9.rarbg.to%3A2920%2Fannounce&tr=udp%3A%2F%2Ftracker.opentrackr.org%3A1337&tr=udp%3A%2F%2Ftracker.internetwarriors.net%3A1337%2Fannounce&tr=udp%3A%2F%2Ftracker.leechers-paradise.org%3A6969%2Fannounce&tr=udp%3A%2F%2Ftracker.coppersurfer.tk%3A6969%2Fannounce&tr=udp%3A%2F%2Ftracker.pirateparty.gr%3A6969%2Fannounce&tr=udp%3A%2F%2Ftracker.cyberia.is%3A6969%2Fannounce\n",
            "2021-12-24 22:14:26.797698\n",
            "Downloading Metadata...\n",
            "Got Metadata, Starting Torrent Download...\n",
            "Starting Joymii.21.09.03.Charlie.Red.A.Gentle.Touch.XXX.480p.MP4-XXX\n",
            "0.00% complete (down: 0.5 kb/s up: 0.1 kB/s peers: 1) downloading \n",
            "0.00% complete (down: 0.5 kb/s up: 0.0 kB/s peers: 1) downloading \n",
            "0.00% complete (down: 0.5 kb/s up: 0.0 kB/s peers: 1) downloading \n",
            "0.00% complete (down: 0.3 kb/s up: 0.0 kB/s peers: 1) downloading \n",
            "0.00% complete (down: 0.1 kb/s up: 0.0 kB/s peers: 1) downloading \n",
            "0.00% complete (down: 0.0 kb/s up: 0.0 kB/s peers: 1) downloading \n",
            "0.00% complete (down: 0.0 kb/s up: 0.0 kB/s peers: 1) downloading \n",
            "0.00% complete (down: 0.0 kb/s up: 0.0 kB/s peers: 1) downloading \n",
            "0.00% complete (down: 0.0 kb/s up: 0.0 kB/s peers: 1) downloading \n",
            "0.00% complete (down: 0.0 kb/s up: 0.0 kB/s peers: 1) downloading \n",
            "0.00% complete (down: 0.0 kb/s up: 0.1 kB/s peers: 2) downloading \n",
            "0.00% complete (down: 0.0 kb/s up: 0.0 kB/s peers: 2) downloading \n",
            "0.00% complete (down: 0.1 kb/s up: 0.1 kB/s peers: 2) downloading \n",
            "0.00% complete (down: 0.0 kb/s up: 0.0 kB/s peers: 2) downloading \n",
            "0.00% complete (down: 0.1 kb/s up: 0.1 kB/s peers: 2) downloading \n",
            "0.00% complete (down: 0.0 kb/s up: 0.0 kB/s peers: 2) downloading \n",
            "0.00% complete (down: 0.1 kb/s up: 0.0 kB/s peers: 2) downloading \n",
            "0.00% complete (down: 0.0 kb/s up: 0.0 kB/s peers: 2) downloading \n",
            "0.00% complete (down: 0.1 kb/s up: 0.0 kB/s peers: 2) downloading \n",
            "0.00% complete (down: 0.0 kb/s up: 0.0 kB/s peers: 2) downloading \n",
            "0.00% complete (down: 0.1 kb/s up: 0.0 kB/s peers: 2) downloading \n",
            "0.00% complete (down: 0.0 kb/s up: 0.0 kB/s peers: 2) downloading \n",
            "0.00% complete (down: 0.1 kb/s up: 0.0 kB/s peers: 2) downloading \n",
            "0.00% complete (down: 0.0 kb/s up: 0.0 kB/s peers: 2) downloading \n",
            "0.00% complete (down: 0.1 kb/s up: 0.0 kB/s peers: 2) downloading \n",
            "0.00% complete (down: 0.0 kb/s up: 0.0 kB/s peers: 2) downloading \n",
            "0.00% complete (down: 0.1 kb/s up: 0.1 kB/s peers: 2) downloading \n",
            "0.00% complete (down: 0.0 kb/s up: 0.0 kB/s peers: 2) downloading \n",
            "0.00% complete (down: 0.1 kb/s up: 0.0 kB/s peers: 2) downloading \n",
            "0.00% complete (down: 0.0 kb/s up: 0.0 kB/s peers: 2) downloading \n",
            "0.00% complete (down: 0.1 kb/s up: 0.0 kB/s peers: 2) downloading \n",
            "0.00% complete (down: 0.0 kb/s up: 0.0 kB/s peers: 2) downloading \n",
            "0.00% complete (down: 0.1 kb/s up: 0.0 kB/s peers: 2) downloading \n",
            "0.00% complete (down: 0.0 kb/s up: 0.0 kB/s peers: 2) downloading \n",
            "0.00% complete (down: 0.1 kb/s up: 0.0 kB/s peers: 2) downloading \n",
            "0.00% complete (down: 0.0 kb/s up: 0.0 kB/s peers: 2) downloading \n",
            "0.00% complete (down: 0.1 kb/s up: 0.0 kB/s peers: 2) downloading \n",
            "0.00% complete (down: 0.0 kb/s up: 0.0 kB/s peers: 2) downloading \n",
            "0.00% complete (down: 0.1 kb/s up: 0.0 kB/s peers: 2) downloading \n",
            "0.00% complete (down: 0.0 kb/s up: 0.0 kB/s peers: 2) downloading \n",
            "0.00% complete (down: 0.1 kb/s up: 0.0 kB/s peers: 2) downloading \n",
            "0.00% complete (down: 0.0 kb/s up: 0.0 kB/s peers: 2) downloading \n",
            "0.00% complete (down: 0.1 kb/s up: 0.0 kB/s peers: 2) downloading \n",
            "0.00% complete (down: 0.0 kb/s up: 0.0 kB/s peers: 2) downloading \n",
            "0.00% complete (down: 0.1 kb/s up: 0.0 kB/s peers: 2) downloading \n",
            "0.00% complete (down: 0.0 kb/s up: 0.0 kB/s peers: 2) downloading \n",
            "0.00% complete (down: 0.1 kb/s up: 0.0 kB/s peers: 2) downloading \n",
            "0.00% complete (down: 0.0 kb/s up: 0.0 kB/s peers: 2) downloading \n",
            "0.00% complete (down: 0.1 kb/s up: 0.0 kB/s peers: 2) downloading \n",
            "0.00% complete (down: 0.0 kb/s up: 0.0 kB/s peers: 2) downloading \n",
            "0.00% complete (down: 0.1 kb/s up: 0.0 kB/s peers: 2) downloading \n",
            "0.00% complete (down: 0.0 kb/s up: 0.0 kB/s peers: 2) downloading \n",
            "0.00% complete (down: 0.1 kb/s up: 0.0 kB/s peers: 2) downloading \n",
            "0.00% complete (down: 0.0 kb/s up: 0.0 kB/s peers: 2) downloading \n",
            "0.00% complete (down: 0.1 kb/s up: 0.0 kB/s peers: 2) downloading \n",
            "0.00% complete (down: 0.0 kb/s up: 0.0 kB/s peers: 2) downloading \n",
            "0.00% complete (down: 0.1 kb/s up: 0.0 kB/s peers: 2) downloading \n",
            "0.00% complete (down: 0.0 kb/s up: 0.0 kB/s peers: 2) downloading \n",
            "0.00% complete (down: 0.2 kb/s up: 0.0 kB/s peers: 2) downloading \n",
            "0.00% complete (down: 0.0 kb/s up: 0.0 kB/s peers: 2) downloading \n",
            "0.00% complete (down: 0.1 kb/s up: 0.0 kB/s peers: 2) downloading \n",
            "0.00% complete (down: 0.0 kb/s up: 0.0 kB/s peers: 2) downloading \n",
            "0.00% complete (down: 0.1 kb/s up: 0.0 kB/s peers: 2) downloading \n",
            "0.00% complete (down: 0.0 kb/s up: 0.0 kB/s peers: 2) downloading \n",
            "0.00% complete (down: 0.1 kb/s up: 0.0 kB/s peers: 2) downloading \n",
            "0.00% complete (down: 0.0 kb/s up: 0.0 kB/s peers: 2) downloading \n",
            "0.00% complete (down: 0.1 kb/s up: 0.0 kB/s peers: 2) downloading \n",
            "0.00% complete (down: 0.0 kb/s up: 0.0 kB/s peers: 2) downloading \n",
            "0.00% complete (down: 0.2 kb/s up: 0.0 kB/s peers: 2) downloading \n",
            "0.00% complete (down: 0.0 kb/s up: 0.0 kB/s peers: 2) downloading \n",
            "0.00% complete (down: 0.2 kb/s up: 0.0 kB/s peers: 2) downloading \n",
            "0.00% complete (down: 0.1 kb/s up: 0.0 kB/s peers: 2) downloading \n",
            "0.01% complete (down: 0.2 kb/s up: 0.0 kB/s peers: 2) downloading \n",
            "0.01% complete (down: 0.0 kb/s up: 0.0 kB/s peers: 2) downloading \n",
            "0.01% complete (down: 0.2 kb/s up: 0.0 kB/s peers: 2) downloading \n",
            "0.01% complete (down: 0.0 kb/s up: 0.0 kB/s peers: 2) downloading \n",
            "0.01% complete (down: 0.1 kb/s up: 0.0 kB/s peers: 2) downloading \n",
            "0.01% complete (down: 0.0 kb/s up: 0.0 kB/s peers: 2) downloading \n",
            "0.01% complete (down: 0.2 kb/s up: 0.0 kB/s peers: 2) downloading \n",
            "0.01% complete (down: 0.0 kb/s up: 0.0 kB/s peers: 2) downloading \n",
            "0.01% complete (down: 0.2 kb/s up: 0.0 kB/s peers: 2) downloading \n",
            "0.01% complete (down: 0.0 kb/s up: 0.0 kB/s peers: 2) downloading \n",
            "0.01% complete (down: 0.2 kb/s up: 0.0 kB/s peers: 2) downloading \n",
            "0.01% complete (down: 0.0 kb/s up: 0.0 kB/s peers: 2) downloading \n"
          ]
        },
        {
          "output_type": "error",
          "ename": "KeyboardInterrupt",
          "evalue": "ignored",
          "traceback": [
            "\u001b[0;31m---------------------------------------------------------------------------\u001b[0m",
            "\u001b[0;31mKeyboardInterrupt\u001b[0m                         Traceback (most recent call last)",
            "\u001b[0;32m<ipython-input-6-ab542bd81a85>\u001b[0m in \u001b[0;36m<module>\u001b[0;34m()\u001b[0m\n\u001b[1;32m     28\u001b[0m     \u001b[0mstate_str\u001b[0m \u001b[0;34m=\u001b[0m \u001b[0;34m[\u001b[0m\u001b[0;34m'queued'\u001b[0m\u001b[0;34m,\u001b[0m \u001b[0;34m'checking'\u001b[0m\u001b[0;34m,\u001b[0m \u001b[0;34m'downloading metadata'\u001b[0m\u001b[0;34m,\u001b[0m             \u001b[0;34m'downloading'\u001b[0m\u001b[0;34m,\u001b[0m \u001b[0;34m'finished'\u001b[0m\u001b[0;34m,\u001b[0m \u001b[0;34m'seeding'\u001b[0m\u001b[0;34m,\u001b[0m \u001b[0;34m'allocating'\u001b[0m\u001b[0;34m]\u001b[0m\u001b[0;34m\u001b[0m\u001b[0;34m\u001b[0m\u001b[0m\n\u001b[1;32m     29\u001b[0m     \u001b[0mprint\u001b[0m \u001b[0;34m(\u001b[0m\u001b[0;34m'%.2f%% complete (down: %.1f kb/s up: %.1f kB/s peers: %d) %s '\u001b[0m \u001b[0;34m%\u001b[0m             \u001b[0;34m(\u001b[0m\u001b[0ms\u001b[0m\u001b[0;34m.\u001b[0m\u001b[0mprogress\u001b[0m \u001b[0;34m*\u001b[0m \u001b[0;36m100\u001b[0m\u001b[0;34m,\u001b[0m \u001b[0ms\u001b[0m\u001b[0;34m.\u001b[0m\u001b[0mdownload_rate\u001b[0m \u001b[0;34m/\u001b[0m \u001b[0;36m1000\u001b[0m\u001b[0;34m,\u001b[0m \u001b[0ms\u001b[0m\u001b[0;34m.\u001b[0m\u001b[0mupload_rate\u001b[0m \u001b[0;34m/\u001b[0m \u001b[0;36m1000\u001b[0m\u001b[0;34m,\u001b[0m             \u001b[0ms\u001b[0m\u001b[0;34m.\u001b[0m\u001b[0mnum_peers\u001b[0m\u001b[0;34m,\u001b[0m \u001b[0mstate_str\u001b[0m\u001b[0;34m[\u001b[0m\u001b[0ms\u001b[0m\u001b[0;34m.\u001b[0m\u001b[0mstate\u001b[0m\u001b[0;34m]\u001b[0m\u001b[0;34m)\u001b[0m\u001b[0;34m)\u001b[0m\u001b[0;34m\u001b[0m\u001b[0;34m\u001b[0m\u001b[0m\n\u001b[0;32m---> 30\u001b[0;31m     \u001b[0mtime\u001b[0m\u001b[0;34m.\u001b[0m\u001b[0msleep\u001b[0m\u001b[0;34m(\u001b[0m\u001b[0;36m5\u001b[0m\u001b[0;34m)\u001b[0m\u001b[0;34m\u001b[0m\u001b[0;34m\u001b[0m\u001b[0m\n\u001b[0m\u001b[1;32m     31\u001b[0m \u001b[0;34m\u001b[0m\u001b[0m\n\u001b[1;32m     32\u001b[0m \u001b[0mend\u001b[0m \u001b[0;34m=\u001b[0m \u001b[0mtime\u001b[0m\u001b[0;34m.\u001b[0m\u001b[0mtime\u001b[0m\u001b[0;34m(\u001b[0m\u001b[0;34m)\u001b[0m\u001b[0;34m\u001b[0m\u001b[0;34m\u001b[0m\u001b[0m\n",
            "\u001b[0;31mKeyboardInterrupt\u001b[0m: "
          ]
        }
      ],
      "source": [
        "import libtorrent as lt\n",
        "import time\n",
        "import datetime\n",
        "\n",
        "ses = lt.session()\n",
        "ses.listen_on(6881, 6891)\n",
        "params = {\n",
        "    'save_path': '/content/drive/My Drive/Torrent/',\n",
        "    'storage_mode': lt.storage_mode_t(2)}\n",
        "\n",
        "print(link)\n",
        "\n",
        "handle = lt.add_magnet_uri(ses, link, params)\n",
        "ses.start_dht()\n",
        "\n",
        "begin = time.time()\n",
        "print(datetime.datetime.now())\n",
        "\n",
        "print ('Downloading Metadata...')\n",
        "while (not handle.has_metadata()):\n",
        "    time.sleep(1)\n",
        "print ('Got Metadata, Starting Torrent Download...')\n",
        "\n",
        "print(\"Starting\", handle.name())\n",
        "\n",
        "while (handle.status().state != lt.torrent_status.seeding):\n",
        "    s = handle.status()\n",
        "    state_str = ['queued', 'checking', 'downloading metadata', \\\n",
        "            'downloading', 'finished', 'seeding', 'allocating']\n",
        "    print ('%.2f%% complete (down: %.1f kb/s up: %.1f kB/s peers: %d) %s ' % \\\n",
        "            (s.progress * 100, s.download_rate / 1000, s.upload_rate / 1000, \\\n",
        "            s.num_peers, state_str[s.state]))\n",
        "    time.sleep(5)\n",
        "\n",
        "end = time.time()\n",
        "print(handle.name(), \"COMPLETE\")\n",
        "\n",
        "print(\"Elapsed Time: \",int((end-begin)//60),\"min :\", int((end-begin)%60), \"sec\")\n",
        "\n",
        "print(datetime.datetime.now())"
      ]
    },
    {
      "cell_type": "code",
      "execution_count": null,
      "metadata": {
        "id": "PUJ2g961PfSr"
      },
      "outputs": [],
      "source": [
        ""
      ]
    }
  ],
  "metadata": {
    "accelerator": "GPU",
    "colab": {
      "collapsed_sections": [],
      "name": "torrent downloader.ipynb",
      "provenance": []
    },
    "kernelspec": {
      "display_name": "Python 3",
      "name": "python3"
    }
  },
  "nbformat": 4,
  "nbformat_minor": 0
}